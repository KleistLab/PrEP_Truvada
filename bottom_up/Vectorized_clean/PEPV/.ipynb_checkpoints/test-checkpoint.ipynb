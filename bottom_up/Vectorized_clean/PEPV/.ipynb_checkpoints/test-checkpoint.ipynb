{
 "cells": [
  {
   "cell_type": "code",
   "execution_count": 1,
   "id": "involved-occasion",
   "metadata": {},
   "outputs": [
    {
     "ename": "ModuleNotFoundError",
     "evalue": "No module named 'PEPV'",
     "output_type": "error",
     "traceback": [
      "\u001b[0;31m---------------------------------------------------------------------------\u001b[0m",
      "\u001b[0;31mModuleNotFoundError\u001b[0m                       Traceback (most recent call last)",
      "\u001b[0;32m<ipython-input-1-a805df030878>\u001b[0m in \u001b[0;36m<module>\u001b[0;34m\u001b[0m\n\u001b[0;32m----> 1\u001b[0;31m \u001b[0;32mfrom\u001b[0m \u001b[0mPEPV\u001b[0m \u001b[0;32mimport\u001b[0m \u001b[0;34m*\u001b[0m       \u001b[0;31m# import this package\u001b[0m\u001b[0;34m\u001b[0m\u001b[0;34m\u001b[0m\u001b[0m\n\u001b[0m\u001b[1;32m      2\u001b[0m \u001b[0;32mimport\u001b[0m \u001b[0mtorch\u001b[0m             \u001b[0;31m# import the necessary python packages\u001b[0m\u001b[0;34m\u001b[0m\u001b[0;34m\u001b[0m\u001b[0m\n\u001b[1;32m      3\u001b[0m \u001b[0;32mimport\u001b[0m \u001b[0mnumpy\u001b[0m \u001b[0;32mas\u001b[0m \u001b[0mnp\u001b[0m\u001b[0;34m\u001b[0m\u001b[0;34m\u001b[0m\u001b[0m\n\u001b[1;32m      4\u001b[0m \u001b[0;32mimport\u001b[0m \u001b[0mpandas\u001b[0m \u001b[0;32mas\u001b[0m \u001b[0mpd\u001b[0m\u001b[0;34m\u001b[0m\u001b[0;34m\u001b[0m\u001b[0m\n",
      "\u001b[0;31mModuleNotFoundError\u001b[0m: No module named 'PEPV'"
     ]
    }
   ],
   "source": [
    "from PEPV import *       # import this package\n",
    "import torch             # import the necessary python packages\n",
    "import numpy as np\n",
    "import pandas as pd"
   ]
  },
  {
   "cell_type": "code",
   "execution_count": null,
   "id": "civilian-uzbekistan",
   "metadata": {},
   "outputs": [],
   "source": [
    "r = Regimen('DTG', 24, (-48, 2400), 50, 3, 1)\n",
    "e = EfficacyPredictor()\n",
    "e.add_regimen(r)\n",
    "e.compute_extinction_probability()"
   ]
  },
  {
   "cell_type": "code",
   "execution_count": null,
   "id": "plastic-humidity",
   "metadata": {},
   "outputs": [],
   "source": [
    "t0, t1 = -72, 28*24\n",
    "r = [[0,0,0] + [200] * 28]\n",
    "r = Regimen('FTC', 24, (t0, t1), 50, 3, 1, adh_pattern=r)\n",
    "r1 = [[0,0,0]+ [300] * 28]\n",
    "r1 = Regimen('TDF', 24, (t0, t1), 300, 3, 1, adh_pattern=r1)\n",
    "e.add_regimen(r)\n",
    "e.add_regimen(r1)\n",
    "e.compute_extinction_probability()"
   ]
  },
  {
   "cell_type": "code",
   "execution_count": null,
   "id": "liable-string",
   "metadata": {},
   "outputs": [],
   "source": [
    "# FTC: 300, -48 to 240\n",
    "\n",
    "r = Regimen('TDF', 24, (-48, 480), 300, 10, 1)\n",
    "e = EfficacyPredictor()\n",
    "e.add_regimen(r)\n",
    "e.compute_extinction_probability()"
   ]
  },
  {
   "cell_type": "code",
   "execution_count": null,
   "id": "liked-telescope",
   "metadata": {},
   "outputs": [],
   "source": [
    "t = torch.load('old_tdf.pt')"
   ]
  },
  {
   "cell_type": "code",
   "execution_count": null,
   "id": "specialized-boring",
   "metadata": {},
   "outputs": [],
   "source": [
    "torch.save(c, 'old_tdf.pt')"
   ]
  },
  {
   "cell_type": "code",
   "execution_count": 2,
   "id": "novel-operations",
   "metadata": {},
   "outputs": [
    {
     "name": "stdout",
     "output_type": "stream",
     "text": [
      "WT added\n",
      "A new regimen added. please run the computation again. \n",
      "Input file changed, please run the computation again. \n",
      "ODE solver changed, please run the computation again. \n",
      "Time step changed, please run the computation again.\n",
      "70.55370831489563\n"
     ]
    }
   ],
   "source": [
    "import time\n",
    "p = [[600]+ [300] * 4]\n",
    "r = Regimen('TDF', 24, (0, 120), 300, 5, 1, adh_pattern=p)\n",
    "e = EfficacyPredictor()\n",
    "e.add_regimen(r)\n",
    "e.add_sample_files('burnssimparam.csv')\n",
    "solver = rk4\n",
    "e.set_ode_solver(solver)\n",
    "e.set_time_step(0.002)\n",
    "t = time.time()\n",
    "e.compute_extinction_probability()\n",
    "print(time.time() - t)"
   ]
  },
  {
   "cell_type": "code",
   "execution_count": 9,
   "id": "referenced-beijing",
   "metadata": {},
   "outputs": [],
   "source": [
    "c1.to_csv('ftc.csv')"
   ]
  },
  {
   "cell_type": "code",
   "execution_count": 11,
   "id": "intellectual-flexibility",
   "metadata": {},
   "outputs": [
    {
     "data": {
      "image/png": "[encoded data removed]",
      "text/plain": [
       "<Figure size 432x288 with 1 Axes>"
      ]
     },
     "metadata": {
      "needs_background": "light"
     },
     "output_type": "display_data"
    }
   ],
   "source": [
    "plt.plot(c1.iloc[:, 0])\n",
    "plt.plot(c1.iloc[:, 2])\n",
    "plt.yscale('log')"
   ]
  },
  {
   "cell_type": "code",
   "execution_count": null,
   "id": "classified-lighter",
   "metadata": {},
   "outputs": [],
   "source": [
    "t0, t1 = -48, 60 * 24\n",
    "\n",
    "p0 = [0, 0] + [50] * 60\n",
    "#p1 = [0, 0] + [50, 0] * 30\n",
    "#p2 = [0, 0] + [50, 0, 0, 0, 0] * 12\n",
    "\n",
    "pattern = [p0]\n",
    "r = Regimen('DTG', 24, (t0, t1), 50, 30, 0, adh_pattern=pattern)"
   ]
  },
  {
   "cell_type": "code",
   "execution_count": null,
   "id": "eligible-coating",
   "metadata": {},
   "outputs": [],
   "source": [
    "e1 = EfficacyPredictor()\n",
    "e1.add_regimen(r)\n",
    "#e.add_mutation('G140S')\n",
    "#e.link_strains('WT', 'G140S', 2.2e-5)"
   ]
  },
  {
   "cell_type": "code",
   "execution_count": null,
   "id": "earned-biodiversity",
   "metadata": {},
   "outputs": [],
   "source": [
    "m1 = ['G140S', 'DTG', 0.75, -0.01, 0.76]\n",
    "m2 = ['N155H', 'DTG', 1.98, 0.06, 0.85]\n",
    "m3 = ['Q148R', 'DTG', 1.8, 0.14, 0.65]"
   ]
  },
  {
   "cell_type": "code",
   "execution_count": null,
   "id": "piano-pressing",
   "metadata": {},
   "outputs": [],
   "source": [
    "#e_m.add_mutation(*m1)\n",
    "#e_m.add_mutation(*m2)\n",
    "e_m.add_mutation(*['Q148R', 'DTG', 1.8, 0.14, 0.65])\n",
    "#e_m.link_strains('WT', m1[0], 2.2e-5)\n",
    "#e_m.link_strains('WT', m2[0], 5.3e-7)\n",
    "e_m.link_strains('WT', m3[0], 1.1e-5)\n",
    "e_m.compute_extinction_probability()"
   ]
  },
  {
   "cell_type": "code",
   "execution_count": null,
   "id": "standard-spain",
   "metadata": {},
   "outputs": [],
   "source": [
    "e_control.modify_propensity(5, (1-1.1e-5))\n",
    "e_control.compute_extinction_probability()"
   ]
  },
  {
   "cell_type": "code",
   "execution_count": null,
   "id": "premier-chamber",
   "metadata": {},
   "outputs": [],
   "source": [
    "contr = e_control.get_extinction_probability()"
   ]
  },
  {
   "cell_type": "code",
   "execution_count": null,
   "id": "handled-karen",
   "metadata": {},
   "outputs": [],
   "source": [
    "EfficacyPredictor.save_object(e_control, 'control50_1.pkl')"
   ]
  },
  {
   "cell_type": "code",
   "execution_count": null,
   "id": "emerging-affair",
   "metadata": {},
   "outputs": [],
   "source": [
    "def plot_rate(ax, mut, control, u):\n",
    "    t = [i*0.02/24 for i in range(int(-48/0.02), int(60 * 24/0.02))]\n",
    "    ax.plot(t, (control[:-1,0,2,0,0] - mut[:-1, 0, 2, 0,0])/(1 - mut[:-1, 0, 2, 0,0]) / u, label='0.2')\n",
    "    ax.plot(t, (control[:-1,0,1,0,0] - mut[:-1, 0, 1, 0,0])/(1 - mut[:-1, 0, 1, 0,0]) / u, label='0.5')\n",
    "    ax.plot(t, (control[:-1,0,0,0,0] - mut[:-1, 0, 0, 0,0])/(1 - mut[:-1, 0, 0, 0,0]) / u, label='1')\n",
    "    ax.set_xlim(-2, 15)\n",
    "    ax.legend(title='Adherence')\n",
    "    ax.set_xlabel('Time of viral exposure relative to first dose [day]')\n",
    "    ax.set_ylabel(r'$f^\\prime(u)$')"
   ]
  },
  {
   "cell_type": "code",
   "execution_count": null,
   "id": "natural-booking",
   "metadata": {},
   "outputs": [],
   "source": [
    "e.add_sample_files('../DGV50_Params.xlsx')"
   ]
  },
  {
   "cell_type": "code",
   "execution_count": null,
   "id": "anonymous-restaurant",
   "metadata": {},
   "outputs": [],
   "source": [
    "for obj in objs:\n",
    "    print(obj.get_extinction_probability().shape)\n",
    "    e = obj"
   ]
  },
  {
   "cell_type": "code",
   "execution_count": null,
   "id": "worst-brief",
   "metadata": {},
   "outputs": [],
   "source": [
    "def plot_population_backwards(tensor, ax):\n",
    "    q = torch.tensor([.025,.25, .5, .75, .975], dtype=torch.double)\n",
    "    quantiles = torch.quantile(tensor , q, dim=1)\n",
    "    t = [i for i in range(quantiles.shape[1])]\n",
    "    p_50 = quantiles[2,:]\n",
    "    p_2_5 = quantiles[0,:]\n",
    "    p_25 = quantiles[1,:]\n",
    "    p_75 = quantiles[3,:]\n",
    "    p_97 = quantiles[4,:]\n",
    "    ax.plot(np.array(t)/24, p_50, lw=0.4)\n",
    "    ax.fill_between(np.array(t)/24, p_2_5, p_97, color='lightgray')\n",
    "    ax.fill_between(np.array(t)/24, p_25, p_75, color='gray')\n",
    "    ax.set_xticks([0,2,4,6,8,10])"
   ]
  }
 ],
 "metadata": {
  "kernelspec": {
   "display_name": "Python 3",
   "language": "python",
   "name": "python3"
  },
  "language_info": {
   "codemirror_mode": {
    "name": "ipython",
    "version": 3
   },
   "file_extension": ".py",
   "mimetype": "text/x-python",
   "name": "python",
   "nbconvert_exporter": "python",
   "pygments_lexer": "ipython3",
   "version": "3.9.2"
  }
 },
 "nbformat": 4,
 "nbformat_minor": 5
}
