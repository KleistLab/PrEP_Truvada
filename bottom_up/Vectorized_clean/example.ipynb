{
 "cells": [
  {
   "cell_type": "markdown",
   "id": "intended-blues",
   "metadata": {},
   "source": [
    "### Prophylactic Efficacy Predictor Vectorized (PEPV)"
   ]
  },
  {
   "cell_type": "markdown",
   "id": "educational-invitation",
   "metadata": {},
   "source": [
    "This package is used to compute the prophylactic efficacy in vectorized way \n",
    "such that the computation can be performed for multiple individuals and dosing schemes \n",
    "simultaneously. Currently, it is applicable on DTG, TDF, FTC and Truvada (combination of DTG and FTC). To use this package following python packages are neede: torch, pandas, numpy."
   ]
  },
  {
   "cell_type": "markdown",
   "id": "ongoing-utility",
   "metadata": {},
   "source": [
    "Interface of this program is the Class EfficacyPredictor. All functions can be called by an object of this class. To run the computation for a certain regimen, we need to generate an object of Class Regimen by giving the related information about the regimen. Then this Regimen object will be added to the EfficacyPredictor object for the computation of extinction probability / efficacy. "
   ]
  },
  {
   "cell_type": "markdown",
   "id": "lesbian-ordering",
   "metadata": {},
   "source": [
    "The following code shows an examplary application of this package:"
   ]
  },
  {
   "cell_type": "code",
   "execution_count": 2,
   "id": "involved-occasion",
   "metadata": {},
   "outputs": [],
   "source": [
    "from PEPV import *       # import this package\n",
    "import torch             # import the necessary python packages\n",
    "import numpy as np\n",
    "import pandas as pd\n",
    "import matplotlib.pyplot as plt"
   ]
  },
  {
   "cell_type": "markdown",
   "id": "imported-vulnerability",
   "metadata": {},
   "source": [
    "#### Example 1: compute the extinction probability/efficacy for one single drug\n",
    "All methods are called using the interface class EfficacyPredictor, i.e. first an object of EfficacyPredictor should be generated. \n",
    "For each different regimen, an object of class Regimen should be generated, initial arguments for Regimen are: \n",
    "1. drug: abbr. of the drug, ('DTG', 'TDF' or 'FTC') \n",
    "2. period: period of each dose in hour (e.g. 24 means that pill is taken every 24 hours)\n",
    "3. time_span: tuple: beginning and end time of this regimen in hour. 0 denotes always the beginning of the first dose, i.e. negative value denotes the time before the first dose is taken. The values of both side should be integer multiple of the period, e.g. if period=24, the time_span should be (i*24, j*24) for i, j are integers. \n",
    "4. dose: dosing of the drug in mg, for example 'TDF' dose=300\n",
    "5. n_doses: doses that should be taken, for example: in a once-daily regimen n_doses=30 (but in computation the actual number of doses may be smaller than 30 because of the adherence)\n",
    "6. adh_level: adherence level, all n_doses will be taken if adh_level=1; if adh_level<1, random pattern will be generated based on n_doses and adh_level\n",
    "7. adh_pattern: default parameter, is None by default, can be given if we need a certain pattern of adherence, this pattern should be a 2-D np array or list with 0 and positive integers (usually 0 and 1, denoting how many pills are taken on the corresponding day, can also be greater than 1). It's 2D because the program also supports computing more than one pattern in a run. Example: if the drug is taken every second day: 'adh_pattern= [[1, 0, 1, 0, 1, 0]]'; for two drug taking patterns, once daily and once every second day, the pattern can be: 'adh_pattern=[[1, 1, 1, 1], [1, 0, 1, 0]]'. The first digit in the pattern represents the dosing on the first day, i.e. at time=0 of the time_span. **Important**: if adh_pattern is given, n_doses and adh_level will not be used to generate the adherence pattern, but we still need to input some numbers for the positional arguments. The length of the adh_pattern can be different from time_span, but time_span will be used as standard for the computation: if time_span[0]<0, additional 0 will be added to the beginning of adh_pattern; if time_span[1] > the length of pattern, 0 will also be added to the end of pattern.    \n",
    "\n",
    "After adding the Regimen object to the EfficacyPredictor object, we can compute the extinction probability or efficacy by calling the corresponding functions. "
   ]
  },
  {
   "cell_type": "code",
   "execution_count": 2,
   "id": "civilian-uzbekistan",
   "metadata": {},
   "outputs": [
    {
     "name": "stdout",
     "output_type": "stream",
     "text": [
      "A new regimen added. please run the computation again. \n"
     ]
    }
   ],
   "source": [
    "# generate a new object of Regimen by giving arguments \n",
    "r = Regimen('DTG', 24, (-48, 240), 50, 3, 1)\n",
    "# generate a new object of EfficacyPredictor\n",
    "e = EfficacyPredictor()\n",
    "# add the generated Regimen object to the EfficacyPredictor\n",
    "e.add_regimen(r)\n",
    "# compute the extinction probability for the regimen 'r'. \n",
    "e.compute_extinction_probability()"
   ]
  },
  {
   "cell_type": "code",
   "execution_count": 3,
   "id": "dental-french",
   "metadata": {},
   "outputs": [
    {
     "data": {
      "text/plain": [
       "torch.Size([14401, 1, 1, 3, 1])"
      ]
     },
     "execution_count": 3,
     "metadata": {},
     "output_type": "execute_result"
    }
   ],
   "source": [
    "# After computing the extinction probability, we can get the extinction probability \n",
    "# of each single viral compartment V, T1 and T2:\n",
    "pe = e.get_extinction_probability()\n",
    "pe.shape"
   ]
  },
  {
   "cell_type": "markdown",
   "id": "cordless-agent",
   "metadata": {},
   "source": [
    "Above is the result of extinction probability. The output is a high-dimensional tensor, with each dimension represents:\n",
    "1. the steps the program propagates during computation, its value depends on the time_span we give in the Regimen object and the time_step parameter set for ODE solver, i.e. here we run the computation for 240+48 = 288hr, in each hour 50 steps were taken, 288 * 50 =  14400 steps. \n",
    "2. the number of individuals, here is 1 meaning that we only compute the extinction probability profile for a individual with average PK parameters. I will show in next example how to run for multiple individuals with different PK parameters.\n",
    "3. number of adherence tracjectories computed simultaneously, here is 1.\n",
    "4. three viral compartment for V, T1 and T2, respectively.\n",
    "5. useless (must have this dimension by computation, no actual meaning)\n",
    "\n",
    "Usually only the extinction probability of V is important for us."
   ]
  },
  {
   "cell_type": "code",
   "execution_count": 4,
   "id": "valued-sigma",
   "metadata": {},
   "outputs": [
    {
     "name": "stdout",
     "output_type": "stream",
     "text": [
      "torch.Size([14401])\n"
     ]
    },
    {
     "data": {
      "text/plain": [
       "[<matplotlib.lines.Line2D at 0x7fa3976fbdc0>]"
      ]
     },
     "execution_count": 4,
     "metadata": {},
     "output_type": "execute_result"
    },
    {
     "data": {
      "image/png": "[encoded data removed]",
      "text/plain": [
       "<Figure size 432x288 with 1 Axes>"
      ]
     },
     "metadata": {
      "needs_background": "light"
     },
     "output_type": "display_data"
    }
   ],
   "source": [
    "# get the extinction probability of a single virus \n",
    "pe_v = pe[:, 0, 0, 0, 0]\n",
    "print(pe_v.shape)   # one-dimensional array\n",
    "plt.plot(pe_v)"
   ]
  },
  {
   "cell_type": "markdown",
   "id": "manufactured-outline",
   "metadata": {},
   "source": [
    "If we want to compute the effficacy for one single virus, we can also call the following method directly. The shape of efficay array is the same as the first 3 dimensions of the extinction probability array"
   ]
  },
  {
   "cell_type": "code",
   "execution_count": 5,
   "id": "bibliographic-metabolism",
   "metadata": {},
   "outputs": [
    {
     "name": "stdout",
     "output_type": "stream",
     "text": [
      "torch.Size([14401, 1, 1])\n"
     ]
    },
    {
     "data": {
      "text/plain": [
       "[<matplotlib.lines.Line2D at 0x7fa397649460>]"
      ]
     },
     "execution_count": 5,
     "metadata": {},
     "output_type": "execute_result"
    },
    {
     "data": {
      "image/png": "[encoded data removed]",
      "text/plain": [
       "<Figure size 432x288 with 1 Axes>"
      ]
     },
     "metadata": {
      "needs_background": "light"
     },
     "output_type": "display_data"
    }
   ],
   "source": [
    "# compute the efficacy of regimem r\n",
    "e.compute_efficacy()\n",
    "phi = e.get_efficacy()\n",
    "print(phi.shape)\n",
    "plt.plot(phi[:, 0, 0])"
   ]
  },
  {
   "cell_type": "markdown",
   "id": "close-crash",
   "metadata": {},
   "source": [
    "You can see here the tail part of the efficacy is not correct since the value is smaller than 0. This is because I initialize the ODE value to solve the extinction probability with [0, 0, 0].  Therefore, if we waant to obtain a correct result for the time-span of interest, we have to extend the input time range. Usually 10 days are more than enough for the extension. "
   ]
  },
  {
   "cell_type": "code",
   "execution_count": 6,
   "id": "reasonable-horse",
   "metadata": {},
   "outputs": [
    {
     "name": "stdout",
     "output_type": "stream",
     "text": [
      "A new regimen added. please run the computation again. \n"
     ]
    }
   ],
   "source": [
    "# extend the input time range with 10 days \n",
    "r = Regimen('DTG', 24, (-48, 240 + 10*24), 50, 3, 1)\n",
    "e = EfficacyPredictor()\n",
    "e.add_regimen(r)\n",
    "# compute the efficacy directly\n",
    "e.compute_efficacy()\n",
    "phi = e.get_efficacy()"
   ]
  },
  {
   "cell_type": "code",
   "execution_count": 7,
   "id": "traditional-liberia",
   "metadata": {},
   "outputs": [
    {
     "data": {
      "image/png": "[encoded data removed]",
      "text/plain": [
       "<Figure size 432x288 with 1 Axes>"
      ]
     },
     "metadata": {
      "needs_background": "light"
     },
     "output_type": "display_data"
    }
   ],
   "source": [
    "# plot the efficacy profile for the time range of interest\n",
    "plt.plot([t/50 for t in range(-48*50, 240*50)], phi[:14400, 0, 0])\n",
    "plt.xlabel('Time of exposure relative to the first dose [hr]')\n",
    "plt.ylabel('Efficacy')\n",
    "plt.show()"
   ]
  },
  {
   "cell_type": "markdown",
   "id": "authorized-pursuit",
   "metadata": {},
   "source": [
    "We can also compute the extinction probability and efficacy profile for multiple individuals simultaneously: add the file containing the PK parameters of corresponding drug before running the computation. The second dimension of the result shows the number of individuals computed."
   ]
  },
  {
   "cell_type": "code",
   "execution_count": 8,
   "id": "accurate-private",
   "metadata": {},
   "outputs": [
    {
     "name": "stdout",
     "output_type": "stream",
     "text": [
      "A new regimen added. please run the computation again. \n",
      "Input file changed, please run the computation again. \n",
      "torch.Size([26401, 1000, 1, 3, 1])\n"
     ]
    }
   ],
   "source": [
    "r = Regimen('DTG', 24, (-48, 24*20), 50, 3, 1)\n",
    "e = EfficacyPredictor()\n",
    "e.add_regimen(r)\n",
    "# add the file containing the PK parameters of DTG for 1000 individuals\n",
    "e.add_sample_files('Data/DGV50_Params.xlsx')\n",
    "e.compute_extinction_probability()\n",
    "pe = e.get_extinction_probability()\n",
    "print(pe.shape)"
   ]
  },
  {
   "cell_type": "markdown",
   "id": "enclosed-practitioner",
   "metadata": {},
   "source": [
    "#### Example 2: compute the extinction probability/efficacy for drug combinations\n",
    "We can also run the computation for drug combinations (currently only Truvada available). For this purpose we have to generate two Regimen objects, for FTC and TDF respectively. Time_span and period of these two regimen should be the same. \n",
    "\n",
    "**Attention**: the program is stupid designed for this case... if we want to compute the efficacy of Truvada for some adherence level, use the adh_patter argument, not the adh_level, unless the adherence level is 1. Otherwise the result will be wrong... (the reason is that in reality the two drugs will be taken as one pill, but here these two regimen objects are 'independent' from each other. So if we give an adh_level e.g. 0.5, these two regimen objects will randomly generate two different patterns with level 0.5, which doesn't match the reality...)"
   ]
  },
  {
   "cell_type": "code",
   "execution_count": 4,
   "id": "plastic-humidity",
   "metadata": {},
   "outputs": [
    {
     "name": "stdout",
     "output_type": "stream",
     "text": [
      "A new regimen added. please run the computation again. \n",
      "A new regimen added. please run the computation again. \n",
      "torch.Size([26401, 1, 1, 3, 1])\n"
     ]
    }
   ],
   "source": [
    "t0, t1 = -48, 20*24\n",
    "# dosing pattern starting from the first dose, i.e. t=0 (t<0 is therefore not included in the pattern)\n",
    "p = np.array([[1, 0, 0, 0, 0, 0, 0, 0, 1, 1, 1, 1, 1, 0, 0, 0, 0]])\n",
    "r = Regimen('FTC', 24, (t0, t1), 200, 30, 1, adh_pattern=p)\n",
    "r1 = Regimen('TDF', 24, (t0, t1), 300, 30, 1, adh_pattern=p)\n",
    "e = EfficacyPredictor()\n",
    "e.add_regimen(r)\n",
    "e.add_regimen(r1)\n",
    "e.compute_extinction_probability()\n",
    "pe = e.get_extinction_probability()\n",
    "print(pe.shape)"
   ]
  },
  {
   "cell_type": "code",
   "execution_count": 5,
   "id": "deluxe-lightweight",
   "metadata": {},
   "outputs": [
    {
     "data": {
      "image/png": "[encoded data removed]",
      "text/plain": [
       "<Figure size 432x288 with 1 Axes>"
      ]
     },
     "metadata": {
      "needs_background": "light"
     },
     "output_type": "display_data"
    }
   ],
   "source": [
    "# we can see that the extra 2 days before the first dose were also computed correctly\n",
    "e.compute_efficacy()\n",
    "phi = e.get_efficacy()\n",
    "plt.plot([t/24/50 for t in range(-48*50, 10*24*50)], phi[:14400,0,0])\n",
    "plt.xlabel('Time of exposure relative to the first dose [hr]')\n",
    "plt.ylabel('Efficacy')\n",
    "plt.show()"
   ]
  },
  {
   "cell_type": "markdown",
   "id": "miniature-difficulty",
   "metadata": {},
   "source": [
    "For Truvada we can also run the computation for multiple individuals, but we have to input the files of PK parameters for TDF and FTC seperately. **Attention**: the files containing the PK parameters of each drug should be added into EfficacyProdictor object in the same order of the corresponding regimen, since the program cannot tell which file represents which drug. \n",
    "\n",
    "This computation can take a while for 1000 individuals."
   ]
  },
  {
   "cell_type": "code",
   "execution_count": 11,
   "id": "adverse-inquiry",
   "metadata": {},
   "outputs": [
    {
     "name": "stdout",
     "output_type": "stream",
     "text": [
      "A new regimen added. please run the computation again. \n",
      "Input file changed, please run the computation again. \n",
      "A new regimen added. please run the computation again. \n",
      "Input file changed, please run the computation again. \n",
      "torch.Size([26401, 1000, 1, 3, 1])\n"
     ]
    }
   ],
   "source": [
    "t0, t1 = -48, 20*24\n",
    "# dosing pattern starting from the first dose, i.e. t=0 (t<0 is therefore not included in the pattern)\n",
    "p = np.array([[1, 0, 0, 0, 0, 0, 0, 0, 1, 1, 1, 1, 1, 0, 0, 0, 0]])\n",
    "r = Regimen('FTC', 24, (t0, t1), 200, 30, 1, adh_pattern=p)\n",
    "r1 = Regimen('TDF', 24, (t0, t1), 300, 30, 1, adh_pattern=p)\n",
    "e = EfficacyPredictor()\n",
    "e.add_regimen(r)\n",
    "e.add_sample_files('Data/ftcmax.csv')\n",
    "e.add_regimen(r1)\n",
    "e.add_sample_files('Data/burnssimparam.csv')\n",
    "e.compute_extinction_probability()\n",
    "pe = e.get_extinction_probability()\n",
    "print(pe.shape)"
   ]
  },
  {
   "cell_type": "markdown",
   "id": "wicked-payment",
   "metadata": {},
   "source": [
    "#### Example 3: some other functions \n",
    "This program also has some other small functions:\n",
    "\n",
    "a) compute or get the drug concentration\n",
    "\n",
    "b) change the file of MMOA for Truvada\n",
    "\n",
    "c) change the local-to-PBMC level \n",
    "\n",
    "d) change the ODE solver and time step used in solving ODE"
   ]
  },
  {
   "cell_type": "code",
   "execution_count": 6,
   "id": "handmade-violin",
   "metadata": {},
   "outputs": [
    {
     "name": "stdout",
     "output_type": "stream",
     "text": [
      "A new regimen added. please run the computation again. \n",
      "A new regimen added. please run the computation again. \n",
      "torch.Size([26401, 1, 1, 4])\n"
     ]
    }
   ],
   "source": [
    "# a) we can get concentration of a drug after computing the extinction probability:\n",
    "t0, t1 = -48, 20*24\n",
    "p = np.array([[1, 0, 0, 0, 0, 0, 0, 0, 1, 1, 1, 1, 1, 0, 0, 0, 0]])\n",
    "r = Regimen('FTC', 24, (t0, t1), 200, 30, 1, adh_pattern=p)\n",
    "r1 = Regimen('TDF', 24, (t0, t1), 300, 30, 1, adh_pattern=p)\n",
    "e = EfficacyPredictor()\n",
    "e.add_regimen(r)\n",
    "e.add_regimen(r1)\n",
    "e.compute_extinction_probability()\n",
    "# use the getter function to get the concentration of the given drug\n",
    "c_tdf = e.get_concentration('TDF')\n",
    "print(c_tdf.shape)\n",
    "# The first 3 dimentions of the concentration matrix have the same meaning as explained above. \n",
    "# The last dimension correspond to the compartments in the PK model. "
   ]
  },
  {
   "cell_type": "code",
   "execution_count": 7,
   "id": "angry-market",
   "metadata": {},
   "outputs": [
    {
     "name": "stdout",
     "output_type": "stream",
     "text": [
      "A new regimen added. please run the computation again. \n",
      "A new regimen added. please run the computation again. \n",
      "torch.Size([26401, 1, 1, 4])\n"
     ]
    }
   ],
   "source": [
    "# a) or directly compute the concentration of a drug:\n",
    "t0, t1 = -48, 20*24\n",
    "p = np.array([[1, 0, 0, 0, 0, 0, 0, 0, 1, 1, 1, 1, 1, 0, 0, 0, 0]])\n",
    "r = Regimen('FTC', 24, (t0, t1), 200, 30, 1, adh_pattern=p)\n",
    "r1 = Regimen('TDF', 24, (t0, t1), 300, 30, 1, adh_pattern=p)\n",
    "e = EfficacyPredictor()\n",
    "e.add_regimen(r)\n",
    "e.add_regimen(r1)\n",
    "e.compute_concentration()\n",
    "c_tdf = e.get_concentration('TDF')\n",
    "print(c_tdf.shape)"
   ]
  },
  {
   "cell_type": "code",
   "execution_count": 14,
   "id": "appropriate-context",
   "metadata": {},
   "outputs": [
    {
     "name": "stdout",
     "output_type": "stream",
     "text": [
      "A new regimen added. please run the computation again. \n",
      "A new regimen added. please run the computation again. \n",
      "PD file changed\n"
     ]
    }
   ],
   "source": [
    "# b) change the file of MMOA for Truvada:\n",
    "t0, t1 = -48, 20*24\n",
    "p = np.array([[1, 0, 0, 0, 0, 0, 0, 0, 1, 1, 1, 1, 1, 0, 0, 0, 0]])\n",
    "r = Regimen('FTC', 24, (t0, t1), 200, 30, 1, adh_pattern=p)\n",
    "r1 = Regimen('TDF', 24, (t0, t1), 300, 30, 1, adh_pattern=p)\n",
    "e = EfficacyPredictor()\n",
    "e.add_regimen(r)\n",
    "e.add_regimen(r1)\n",
    "# change the file which contains the MMOA matrix, default is modMMOA_FTC_TDF_zero_extended.csv\n",
    "e.set_pd_file('Data/comb_output_VagChen.csv')\n",
    "# then run the computation normally\n",
    "e.compute_extinction_probability()"
   ]
  },
  {
   "cell_type": "code",
   "execution_count": 15,
   "id": "charged-macintosh",
   "metadata": {},
   "outputs": [
    {
     "name": "stdout",
     "output_type": "stream",
     "text": [
      "A new regimen added. please run the computation again. \n",
      "A new regimen added. please run the computation again. \n"
     ]
    }
   ],
   "source": [
    "# c) change the local-to-PBMC level\n",
    "t0, t1 = -48, 20*24\n",
    "p = np.array([[1, 0, 0, 0, 0, 0, 0, 0, 1, 1, 1, 1, 1, 0, 0, 0, 0]])\n",
    "r = Regimen('FTC', 24, (t0, t1), 200, 30, 1, adh_pattern=p)\n",
    "r1 = Regimen('TDF', 24, (t0, t1), 300, 30, 1, adh_pattern=p)\n",
    "e = EfficacyPredictor()\n",
    "e.add_regimen(r)\n",
    "e.add_regimen(r1)\n",
    "# to change the concentration according to the local-to-PBMC ratio, we have to: \n",
    "# 1. compute the concentration\n",
    "# 2. set local-to-PBMC ratio for the concentration of certain drug  \n",
    "# 3. compute the extinction probability /efficacy\n",
    "e.compute_concentration()\n",
    "e.set_concentration_proportion('FTC', 0.03)\n",
    "e.compute_extinction_probability()\n"
   ]
  },
  {
   "cell_type": "code",
   "execution_count": 26,
   "id": "mighty-classroom",
   "metadata": {},
   "outputs": [
    {
     "name": "stdout",
     "output_type": "stream",
     "text": [
      "A new regimen added. please run the computation again. \n",
      "A new regimen added. please run the computation again. \n",
      "Input file changed, please run the computation again. \n",
      "Input file changed, please run the computation again. \n",
      "ODE solver for PK changed, please run the computation again. \n",
      "Time step for PK changed, please run the computation again.\n"
     ]
    }
   ],
   "source": [
    "# d) change the ODE solver and time step used in solving ODE\n",
    "# Because this program is written in vectorized way, ODE solver provided by Scipy cannot be used here. \n",
    "# So I wrote my own ODE solver function Euler and RK4. \n",
    "\n",
    "# Default ODE solver is Euler (RK1), time step is 0.02hr \n",
    "# There are two ODE sets that will be solved in the computation: first is the PK ODE set, \n",
    "# second is the ODE set for the PGS to solve the extinction probability.\n",
    "# Usually we don't need to change the ODE solver and time step for the PGS. \n",
    "\n",
    "# Currently I only found one case in which we need to change the ODE solver and time steps:\n",
    "# if we use the file of TDF ('burnssimparam.csv'), which contains the 1000 virtual patients, we need to change the ODE solver and time step\n",
    "# to solve the PK ODE set, since some individuals there have super large Ka values. \n",
    "# If we don't change the ODE solver and time step, the results will be wrong for the individuals whose Ka values\n",
    "# larger than 100.\n",
    "\n",
    "\n",
    "t0, t1 = 0, 15*24\n",
    "r = Regimen('FTC', 24, (t0, t1), 200, 10, 1)\n",
    "r1 = Regimen('TDF', 24, (t0, t1), 300, 10, 1)\n",
    "e = EfficacyPredictor()\n",
    "e.add_regimen(r)\n",
    "e.add_regimen(r1)\n",
    "e.add_sample_files('./Data/ftcmax.csv')\n",
    "e.add_sample_files('./Data/burnssimparam.csv')\n",
    "e.set_pk_ode_solver('TDF', rk4)      # change ODE solver for TDF to solve the PK ODE\n",
    "e.set_pk_time_step('TDF', 0.002)     # change time step fot TDF to solve PK ODE. \n",
    "e.compute_extinction_probability()\n",
    "\n",
    "# Computation can be slow for 1000 individuals. "
   ]
  },
  {
   "cell_type": "code",
   "execution_count": null,
   "id": "tender-receptor",
   "metadata": {},
   "outputs": [],
   "source": []
  }
 ],
 "metadata": {
  "kernelspec": {
   "display_name": "Python 3",
   "language": "python",
   "name": "python3"
  },
  "language_info": {
   "codemirror_mode": {
    "name": "ipython",
    "version": 3
   },
   "file_extension": ".py",
   "mimetype": "text/x-python",
   "name": "python",
   "nbconvert_exporter": "python",
   "pygments_lexer": "ipython3",
   "version": "3.9.2"
  }
 },
 "nbformat": 4,
 "nbformat_minor": 5
}
